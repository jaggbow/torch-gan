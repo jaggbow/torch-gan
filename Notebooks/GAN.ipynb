{
 "cells": [
  {
   "cell_type": "code",
   "execution_count": 20,
   "metadata": {},
   "outputs": [],
   "source": [
    "import sys\n",
    "import os\n",
    "import torch\n",
    "from torch import dtype\n",
    "import numpy as np\n",
    "module_path = os.path.abspath(os.path.join('..'))\n",
    "if module_path not in sys.path:\n",
    "    sys.path.append(module_path+\"\\\\gans\")\n",
    "from gan import *\n",
    "import seaborn as sns\n",
    "import matplotlib.pyplot as plt\n",
    "from torchvision import transforms, datasets\n",
    "\n",
    "dtype = float\n",
    "device = torch.device(\"cpu\")"
   ]
  },
  {
   "cell_type": "code",
   "execution_count": 21,
   "metadata": {},
   "outputs": [],
   "source": [
    "BATCH_SIZE = 128\n",
    "LEARNING_RATE = 0.0002\n",
    "LATENT_DIM = 100"
   ]
  },
  {
   "cell_type": "code",
   "execution_count": 26,
   "metadata": {},
   "outputs": [],
   "source": [
    "#MNIST dataset\n",
    "def mnist_load():\n",
    "    transform = transforms.Compose([transforms.ToTensor(),\n",
    "                                    transforms.Normalize((.5), (.5)),\n",
    "                                    transforms.Lambda(image2vec)])\n",
    "    return datasets.MNIST(root='./dataset', train=True, transform=transform, download=True)\n",
    "\n",
    "\n",
    "def image2vec(image):\n",
    "    return image.view(image.size(0), 784)\n",
    "\n",
    "\n",
    "def vec2image(vector):\n",
    "    return vector.view(vector.size(0), 1, 28, 28)"
   ]
  },
  {
   "cell_type": "code",
   "execution_count": 27,
   "metadata": {},
   "outputs": [],
   "source": [
    "data = mnist_load()\n",
    "data_loader = torch.utils.data.DataLoader(data, batch_size=BATCH_SIZE, shuffle=True)"
   ]
  },
  {
   "cell_type": "code",
   "execution_count": 28,
   "metadata": {},
   "outputs": [],
   "source": [
    "advNet = GAN(LATENT_DIM,device)"
   ]
  },
  {
   "cell_type": "code",
   "execution_count": 29,
   "metadata": {},
   "outputs": [
    {
     "name": "stdout",
     "output_type": "stream",
     "text": [
      "Epoch 0: Discriminator loss: 0.3762995824654664 | Generator loss: 4.296645958731169\n",
      "Epoch 1: Discriminator loss: 0.3327813576668628 | Generator loss: 4.053948852998107\n",
      "Epoch 2: Discriminator loss: 0.4283573718658134 | Generator loss: 2.086999021232255\n",
      "Epoch 3: Discriminator loss: 0.3416394603246056 | Generator loss: 2.651141822719371\n",
      "Epoch 4: Discriminator loss: 0.30377158770429047 | Generator loss: 2.7161714418102174\n",
      "Epoch 5: Discriminator loss: 0.21195236170914636 | Generator loss: 3.4601254125139604\n",
      "Epoch 6: Discriminator loss: 0.25262668568378827 | Generator loss: 2.9751778780016056\n",
      "Epoch 7: Discriminator loss: 0.26711692926344843 | Generator loss: 2.5580148102123856\n",
      "Epoch 8: Discriminator loss: 0.3012114454751838 | Generator loss: 2.5813735540487617\n",
      "Epoch 9: Discriminator loss: 0.277206132851684 | Generator loss: 2.6471720283219553\n",
      "Epoch 10: Discriminator loss: 0.31911567771739796 | Generator loss: 2.42350338135701\n",
      "Epoch 11: Discriminator loss: 0.2992269531496044 | Generator loss: 2.517211498482141\n",
      "Epoch 12: Discriminator loss: 0.3474062466100335 | Generator loss: 2.285124758159174\n",
      "Epoch 13: Discriminator loss: 0.3287218519365355 | Generator loss: 2.252167133888456\n",
      "Epoch 14: Discriminator loss: 0.3252226546692696 | Generator loss: 2.3482528256454955\n",
      "Epoch 15: Discriminator loss: 0.3919468584345348 | Generator loss: 1.991515111567369\n",
      "Epoch 16: Discriminator loss: 0.3552613166857884 | Generator loss: 2.172182284438534\n",
      "Epoch 17: Discriminator loss: 0.368248928616296 | Generator loss: 2.0526258709079928\n",
      "Epoch 18: Discriminator loss: 0.3927169070759816 | Generator loss: 2.014765599897421\n",
      "Epoch 19: Discriminator loss: 0.38245073008511876 | Generator loss: 1.9754731296730448\n",
      "Epoch 20: Discriminator loss: 0.3874724780572757 | Generator loss: 1.951957323403755\n",
      "Epoch 21: Discriminator loss: 0.3769321483907415 | Generator loss: 2.0441097132941044\n",
      "Epoch 22: Discriminator loss: 0.42347066234678093 | Generator loss: 1.7964593215283555\n",
      "Epoch 23: Discriminator loss: 0.41299636017030744 | Generator loss: 1.7787338792642295\n",
      "Epoch 24: Discriminator loss: 0.4183802353039479 | Generator loss: 1.8075040850812183\n",
      "Epoch 25: Discriminator loss: 0.4294468321398631 | Generator loss: 1.7233334784822931\n",
      "Epoch 26: Discriminator loss: 0.46592131848020085 | Generator loss: 1.5741989691374398\n",
      "Epoch 27: Discriminator loss: 0.4413742812584712 | Generator loss: 1.673908129683944\n",
      "Epoch 28: Discriminator loss: 0.45895163838797287 | Generator loss: 1.6039132583878442\n",
      "Epoch 29: Discriminator loss: 0.46637408654572865 | Generator loss: 1.5584421039644334\n",
      "Epoch 30: Discriminator loss: 0.451834804594898 | Generator loss: 1.6337885599909052\n",
      "Epoch 31: Discriminator loss: 0.4657465556918431 | Generator loss: 1.575842795849863\n",
      "Epoch 32: Discriminator loss: 0.4592320159681316 | Generator loss: 1.6000541523575529\n",
      "Epoch 33: Discriminator loss: 0.4693415426750427 | Generator loss: 1.5509890531426045\n",
      "Epoch 34: Discriminator loss: 0.47080909443308294 | Generator loss: 1.5327314428174927\n",
      "Epoch 35: Discriminator loss: 0.48596597582038276 | Generator loss: 1.4932969607778195\n",
      "Epoch 36: Discriminator loss: 0.48920306703175054 | Generator loss: 1.4828033485392262\n",
      "Epoch 37: Discriminator loss: 0.49443370211861537 | Generator loss: 1.4491394193950238\n",
      "Epoch 38: Discriminator loss: 0.49610170353450245 | Generator loss: 1.4257657456753858\n",
      "Epoch 39: Discriminator loss: 0.4931306160970537 | Generator loss: 1.418849809718793\n",
      "Epoch 40: Discriminator loss: 0.4970556092796041 | Generator loss: 1.4214331615708276\n",
      "Epoch 41: Discriminator loss: 0.5125628486116812 | Generator loss: 1.3589506939784297\n",
      "Epoch 42: Discriminator loss: 0.520827551449794 | Generator loss: 1.3295967524239758\n",
      "Epoch 43: Discriminator loss: 0.5212029673016148 | Generator loss: 1.2950041699511157\n",
      "Epoch 44: Discriminator loss: 0.5366806545491412 | Generator loss: 1.2588791857396107\n",
      "Epoch 45: Discriminator loss: 0.5290820342518373 | Generator loss: 1.2879854598279192\n",
      "Epoch 46: Discriminator loss: 0.5247779103484489 | Generator loss: 1.312175186966528\n",
      "Epoch 47: Discriminator loss: 0.5263251674327769 | Generator loss: 1.2930383931345015\n",
      "Epoch 48: Discriminator loss: 0.5449662849720098 | Generator loss: 1.2308332076204864\n",
      "Epoch 49: Discriminator loss: 0.5476760338745645 | Generator loss: 1.205459327458827\n",
      "Epoch 50: Discriminator loss: 0.5388473149682922 | Generator loss: 1.2576586785855324\n",
      "Epoch 51: Discriminator loss: 0.5392907129040659 | Generator loss: 1.2527167958491392\n",
      "Epoch 52: Discriminator loss: 0.5400743406972905 | Generator loss: 1.251266684740591\n",
      "Epoch 53: Discriminator loss: 0.5567433135723 | Generator loss: 1.1885948279010716\n",
      "Epoch 54: Discriminator loss: 0.5527977889407673 | Generator loss: 1.1913627428032443\n",
      "Epoch 55: Discriminator loss: 0.5525979472121705 | Generator loss: 1.1942714773007292\n",
      "Epoch 56: Discriminator loss: 0.5607817350928463 | Generator loss: 1.1702303562337146\n",
      "Epoch 57: Discriminator loss: 0.5622835375352709 | Generator loss: 1.1679789336251298\n",
      "Epoch 58: Discriminator loss: 0.5623456737888393 | Generator loss: 1.1568291152972403\n",
      "Epoch 59: Discriminator loss: 0.5677235962104187 | Generator loss: 1.136650002841502\n",
      "Epoch 60: Discriminator loss: 0.5623659422275609 | Generator loss: 1.1603676918218893\n",
      "Epoch 61: Discriminator loss: 0.5675903591774166 | Generator loss: 1.146576478283034\n",
      "Epoch 62: Discriminator loss: 0.568949839072441 | Generator loss: 1.1506103294998853\n",
      "Epoch 63: Discriminator loss: 0.5677709036163175 | Generator loss: 1.1466265949867427\n",
      "Epoch 64: Discriminator loss: 0.5662299254174425 | Generator loss: 1.143325225503714\n",
      "Epoch 65: Discriminator loss: 0.5780600483483597 | Generator loss: 1.1182186255322846\n",
      "Epoch 66: Discriminator loss: 0.5748323952592512 | Generator loss: 1.1182431433754942\n",
      "Epoch 67: Discriminator loss: 0.577247363608529 | Generator loss: 1.1101005140906457\n",
      "Epoch 68: Discriminator loss: 0.5811248302840983 | Generator loss: 1.086075914058604\n",
      "Epoch 69: Discriminator loss: 0.5847293370441079 | Generator loss: 1.0913348598266714\n",
      "Epoch 70: Discriminator loss: 0.5861606751042389 | Generator loss: 1.0781328540875206\n",
      "Epoch 71: Discriminator loss: 0.5837388109804978 | Generator loss: 1.07006554588326\n",
      "Epoch 72: Discriminator loss: 0.5906460575584663 | Generator loss: 1.0493680119260287\n",
      "Epoch 73: Discriminator loss: 0.5864637407666838 | Generator loss: 1.0637796813491056\n",
      "Epoch 74: Discriminator loss: 0.5827623779204354 | Generator loss: 1.0980683848547783\n",
      "Epoch 75: Discriminator loss: 0.5865623658654023 | Generator loss: 1.0786212882253408\n",
      "Epoch 76: Discriminator loss: 0.590558575351101 | Generator loss: 1.0565430477483948\n",
      "Epoch 77: Discriminator loss: 0.5891373742109677 | Generator loss: 1.055780346078405\n",
      "Epoch 78: Discriminator loss: 0.5912636048885297 | Generator loss: 1.0538260812190041\n",
      "Epoch 79: Discriminator loss: 0.5960926851992414 | Generator loss: 1.0450003926179556\n",
      "Epoch 80: Discriminator loss: 0.5962060071003716 | Generator loss: 1.0254776202031035\n",
      "Epoch 81: Discriminator loss: 0.5987064731654836 | Generator loss: 1.0317955066654474\n",
      "Epoch 82: Discriminator loss: 0.5961262285073937 | Generator loss: 1.0352288424841631\n",
      "Epoch 83: Discriminator loss: 0.5981435322049838 | Generator loss: 1.0386143677524413\n",
      "Epoch 84: Discriminator loss: 0.605738549344321 | Generator loss: 1.0085631475519778\n",
      "Epoch 85: Discriminator loss: 0.6020274338310462 | Generator loss: 1.0220080260783115\n",
      "Epoch 86: Discriminator loss: 0.5983085883960032 | Generator loss: 1.030781588828894\n",
      "Epoch 87: Discriminator loss: 0.5975909665195164 | Generator loss: 1.0167130738941592\n",
      "Epoch 88: Discriminator loss: 0.6056311847304484 | Generator loss: 1.0061822649258285\n",
      "Epoch 89: Discriminator loss: 0.5999102231536084 | Generator loss: 1.0262569225927405\n",
      "Epoch 90: Discriminator loss: 0.600808829132682 | Generator loss: 1.031543048460092\n",
      "Epoch 91: Discriminator loss: 0.602133198587625 | Generator loss: 1.018893600653992\n",
      "Epoch 92: Discriminator loss: 0.6022642861042958 | Generator loss: 1.0199662923558688\n",
      "Epoch 93: Discriminator loss: 0.6029657820013287 | Generator loss: 1.0245265714141096\n",
      "Epoch 94: Discriminator loss: 0.6014772184622059 | Generator loss: 1.0205499409104206\n",
      "Epoch 95: Discriminator loss: 0.6023638502621194 | Generator loss: 1.0182768990998583\n"
     ]
    },
    {
     "name": "stdout",
     "output_type": "stream",
     "text": [
      "Epoch 96: Discriminator loss: 0.6063597047252696 | Generator loss: 1.0041756205467274\n",
      "Epoch 97: Discriminator loss: 0.6119988727162896 | Generator loss: 0.9922381809779576\n",
      "Epoch 98: Discriminator loss: 0.61109493777696 | Generator loss: 0.9848139010258575\n",
      "Epoch 99: Discriminator loss: 0.6109245997756275 | Generator loss: 0.9965792813026575\n",
      "Epoch 100: Discriminator loss: 0.6163390813860049 | Generator loss: 0.9725030687317919\n",
      "Epoch 101: Discriminator loss: 0.615511940232218 | Generator loss: 0.9626938550711186\n",
      "Epoch 102: Discriminator loss: 0.6108943881002317 | Generator loss: 0.9954904763937504\n",
      "Epoch 103: Discriminator loss: 0.6107994940108074 | Generator loss: 0.9872823361394756\n",
      "Epoch 104: Discriminator loss: 0.6149623275819872 | Generator loss: 0.9798004422614823\n",
      "Epoch 105: Discriminator loss: 0.6160660328895553 | Generator loss: 0.959212919542276\n",
      "Epoch 106: Discriminator loss: 0.6178829129825014 | Generator loss: 0.9635287796510562\n",
      "Epoch 107: Discriminator loss: 0.6152305366642186 | Generator loss: 0.9687551632364676\n",
      "Epoch 108: Discriminator loss: 0.6171313758089598 | Generator loss: 0.9598659071078433\n",
      "Epoch 109: Discriminator loss: 0.6160226939583638 | Generator loss: 0.966009751057574\n",
      "Epoch 110: Discriminator loss: 0.6179442509913495 | Generator loss: 0.9627788312145388\n",
      "Epoch 111: Discriminator loss: 0.620840989958757 | Generator loss: 0.952378301478144\n",
      "Epoch 112: Discriminator loss: 0.620931594356545 | Generator loss: 0.9571482248143601\n",
      "Epoch 113: Discriminator loss: 0.621240038226154 | Generator loss: 0.9741422573386479\n",
      "Epoch 114: Discriminator loss: 0.6216442192287079 | Generator loss: 0.9388691268241736\n",
      "Epoch 115: Discriminator loss: 0.6200491336108779 | Generator loss: 0.9621775103276218\n",
      "Epoch 116: Discriminator loss: 0.6228362038445625 | Generator loss: 0.9454126051748231\n",
      "Epoch 117: Discriminator loss: 0.6227123891112647 | Generator loss: 0.9456949662298028\n",
      "Epoch 118: Discriminator loss: 0.6205384437717608 | Generator loss: 0.9535865662957052\n",
      "Epoch 119: Discriminator loss: 0.621636419916458 | Generator loss: 0.9512295179021384\n",
      "Epoch 120: Discriminator loss: 0.6188121595616534 | Generator loss: 0.9662031795678616\n",
      "Epoch 121: Discriminator loss: 0.621263409474257 | Generator loss: 0.9443517637405314\n",
      "Epoch 122: Discriminator loss: 0.6219806621577948 | Generator loss: 0.946777947675953\n",
      "Epoch 123: Discriminator loss: 0.6236833068353536 | Generator loss: 0.9349752130793102\n",
      "Epoch 124: Discriminator loss: 0.62284865600468 | Generator loss: 0.9458265854859911\n",
      "Epoch 125: Discriminator loss: 0.6246045576229787 | Generator loss: 0.940680282583623\n",
      "Epoch 126: Discriminator loss: 0.6284328599982678 | Generator loss: 0.9308505580623521\n",
      "Epoch 127: Discriminator loss: 0.6308786619955035 | Generator loss: 0.9156329012882989\n",
      "Epoch 128: Discriminator loss: 0.6246004132573792 | Generator loss: 0.9462731354780543\n",
      "Epoch 129: Discriminator loss: 0.6266538258046229 | Generator loss: 0.9300052423212828\n",
      "Epoch 130: Discriminator loss: 0.6286245260411488 | Generator loss: 0.9188292132003475\n",
      "Epoch 131: Discriminator loss: 0.6285571061980242 | Generator loss: 0.9185185448955625\n",
      "Epoch 132: Discriminator loss: 0.6307502953228412 | Generator loss: 0.9182827721780805\n",
      "Epoch 133: Discriminator loss: 0.6320069117078395 | Generator loss: 0.9203162647005337\n",
      "Epoch 134: Discriminator loss: 0.6314403835390168 | Generator loss: 0.9234531029963544\n",
      "Epoch 135: Discriminator loss: 0.627956842816969 | Generator loss: 0.9340944277452253\n",
      "Epoch 136: Discriminator loss: 0.631181285960842 | Generator loss: 0.9278684369028251\n",
      "Epoch 137: Discriminator loss: 0.6262616769972641 | Generator loss: 0.9347195779082618\n",
      "Epoch 138: Discriminator loss: 0.6291055168424334 | Generator loss: 0.9218523612917106\n",
      "Epoch 139: Discriminator loss: 0.6279520694889239 | Generator loss: 0.9232061038901811\n",
      "Epoch 140: Discriminator loss: 0.6290773092302432 | Generator loss: 0.9252848512074078\n",
      "Epoch 141: Discriminator loss: 0.6344222139193814 | Generator loss: 0.9112630649162\n",
      "Epoch 142: Discriminator loss: 0.6276686538511248 | Generator loss: 0.9289159824344904\n",
      "Epoch 143: Discriminator loss: 0.6335716410232252 | Generator loss: 0.9101981068216661\n",
      "Epoch 144: Discriminator loss: 0.6344219757549798 | Generator loss: 0.9097560382346863\n",
      "Epoch 145: Discriminator loss: 0.6321323292850177 | Generator loss: 0.9148100131610309\n",
      "Epoch 146: Discriminator loss: 0.6372977113927097 | Generator loss: 0.893938734968588\n",
      "Epoch 147: Discriminator loss: 0.6322398115831144 | Generator loss: 0.9136281514218622\n",
      "Epoch 148: Discriminator loss: 0.6315164906638009 | Generator loss: 0.9261949217395742\n",
      "Epoch 149: Discriminator loss: 0.6328844916083411 | Generator loss: 0.9230256580086406\n",
      "Epoch 150: Discriminator loss: 0.6330557042347597 | Generator loss: 0.9001548548242939\n",
      "Epoch 151: Discriminator loss: 0.6337856073369349 | Generator loss: 0.9033305115028739\n",
      "Epoch 152: Discriminator loss: 0.6326294327849773 | Generator loss: 0.909149317980321\n",
      "Epoch 153: Discriminator loss: 0.634202947494572 | Generator loss: 0.9032633633755925\n",
      "Epoch 154: Discriminator loss: 0.6322824006904163 | Generator loss: 0.9165626456742602\n",
      "Epoch 155: Discriminator loss: 0.6264904454064522 | Generator loss: 0.9343657252122598\n",
      "Epoch 156: Discriminator loss: 0.6311496568641175 | Generator loss: 0.9193303859564287\n",
      "Epoch 157: Discriminator loss: 0.634000858264183 | Generator loss: 0.9123497781977217\n",
      "Epoch 158: Discriminator loss: 0.6342217680741983 | Generator loss: 0.8995976204048596\n",
      "Epoch 159: Discriminator loss: 0.6360360431010281 | Generator loss: 0.9017536758359815\n",
      "Epoch 160: Discriminator loss: 0.6338673145023744 | Generator loss: 0.9146294108331839\n",
      "Epoch 161: Discriminator loss: 0.6310291046272717 | Generator loss: 0.9137146559351289\n",
      "Epoch 162: Discriminator loss: 0.6398477283622156 | Generator loss: 0.8860088333900549\n",
      "Epoch 163: Discriminator loss: 0.6408209923996346 | Generator loss: 0.8811306343403961\n",
      "Epoch 164: Discriminator loss: 0.6379188327138612 | Generator loss: 0.8937523309101683\n",
      "Epoch 165: Discriminator loss: 0.6340845863956378 | Generator loss: 0.906605734499787\n",
      "Epoch 166: Discriminator loss: 0.6328349901414884 | Generator loss: 0.9205106627712372\n",
      "Epoch 167: Discriminator loss: 0.6352831362915445 | Generator loss: 0.897821242748293\n",
      "Epoch 168: Discriminator loss: 0.6333338848309222 | Generator loss: 0.9056211599408944\n",
      "Epoch 169: Discriminator loss: 0.6354196821448646 | Generator loss: 0.9036157522628556\n",
      "Epoch 170: Discriminator loss: 0.635599935486881 | Generator loss: 0.9024180935135783\n",
      "Epoch 171: Discriminator loss: 0.641533919234774 | Generator loss: 0.8893013538073883\n",
      "Epoch 172: Discriminator loss: 0.6410315343057678 | Generator loss: 0.8839247008122361\n",
      "Epoch 173: Discriminator loss: 0.6383810237780817 | Generator loss: 0.8918483526721946\n",
      "Epoch 174: Discriminator loss: 0.6391619454060536 | Generator loss: 0.8933386669230106\n",
      "Epoch 175: Discriminator loss: 0.6359430341832419 | Generator loss: 0.9025006808960108\n",
      "Epoch 176: Discriminator loss: 0.6367840761823187 | Generator loss: 0.8954503475221743\n",
      "Epoch 177: Discriminator loss: 0.6386447714081706 | Generator loss: 0.8881827764419604\n",
      "Epoch 178: Discriminator loss: 0.6396481071962222 | Generator loss: 0.8923500298437025\n",
      "Epoch 179: Discriminator loss: 0.6371062350933994 | Generator loss: 0.8990319324200595\n",
      "Epoch 180: Discriminator loss: 0.6377092537595265 | Generator loss: 0.8926245341422969\n",
      "Epoch 181: Discriminator loss: 0.6364760858926184 | Generator loss: 0.909185463050281\n",
      "Epoch 182: Discriminator loss: 0.6354575802776605 | Generator loss: 0.8939522398051931\n",
      "Epoch 183: Discriminator loss: 0.6368768357518894 | Generator loss: 0.8951141276339224\n",
      "Epoch 184: Discriminator loss: 0.6365159859281104 | Generator loss: 0.8935566358983136\n",
      "Epoch 185: Discriminator loss: 0.6401499352221296 | Generator loss: 0.8847826601091479\n",
      "Epoch 186: Discriminator loss: 0.6384607004458462 | Generator loss: 0.888796300394957\n",
      "Epoch 187: Discriminator loss: 0.6389151392206709 | Generator loss: 0.8927012754401673\n",
      "Epoch 188: Discriminator loss: 0.6381911648107744 | Generator loss: 0.8895295278858274\n",
      "Epoch 189: Discriminator loss: 0.6394070444076554 | Generator loss: 0.8940292059231415\n",
      "Epoch 190: Discriminator loss: 0.6421188602823693 | Generator loss: 0.8734553155106014\n"
     ]
    },
    {
     "name": "stdout",
     "output_type": "stream",
     "text": [
      "Epoch 191: Discriminator loss: 0.6403491484330915 | Generator loss: 0.8886000479716482\n",
      "Epoch 192: Discriminator loss: 0.6372499439253736 | Generator loss: 0.8996388411471076\n",
      "Epoch 193: Discriminator loss: 0.637008316100025 | Generator loss: 0.9035498977724169\n",
      "Epoch 194: Discriminator loss: 0.6399955932519583 | Generator loss: 0.8867673068158408\n",
      "Epoch 195: Discriminator loss: 0.6405196038644705 | Generator loss: 0.8812903599190051\n",
      "Epoch 196: Discriminator loss: 0.6379881765542508 | Generator loss: 0.8953368923048983\n",
      "Epoch 197: Discriminator loss: 0.6406392644463318 | Generator loss: 0.8903078699925306\n",
      "Epoch 198: Discriminator loss: 0.6364609428814479 | Generator loss: 0.8953947319404911\n",
      "Epoch 199: Discriminator loss: 0.6412405357686187 | Generator loss: 0.8826016313485754\n"
     ]
    }
   ],
   "source": [
    "advNet.train(data_loader, batch_size=BATCH_SIZE, epochs=200)"
   ]
  },
  {
   "cell_type": "code",
   "execution_count": 33,
   "metadata": {},
   "outputs": [
    {
     "data": {
      "image/png": "[encoded data removed]",
      "text/plain": [
       "<Figure size 432x288 with 1 Axes>"
      ]
     },
     "metadata": {
      "needs_background": "light"
     },
     "output_type": "display_data"
    }
   ],
   "source": [
    "plt.plot(advNet.history['Generator'], label=\"Generator\")\n",
    "plt.plot(advNet.history['Discriminator'], label='Discriminator')\n",
    "plt.legend(loc='best')\n",
    "plt.show()"
   ]
  },
  {
   "cell_type": "code",
   "execution_count": 51,
   "metadata": {},
   "outputs": [
    {
     "data": {
      "text/plain": [
       "<matplotlib.image.AxesImage at 0x28a9bfb8148>"
      ]
     },
     "execution_count": 51,
     "metadata": {},
     "output_type": "execute_result"
    },
    {
     "data": {
      "image/png": "[encoded data removed]",
      "text/plain": [
       "<Figure size 432x288 with 1 Axes>"
      ]
     },
     "metadata": {
      "needs_background": "light"
     },
     "output_type": "display_data"
    }
   ],
   "source": [
    "pred = advNet.generate(1)\n",
    "plt.imshow(vec2image(pred).detach().numpy()[0].reshape(28,28,1))"
   ]
  },
  {
   "cell_type": "code",
   "execution_count": null,
   "metadata": {},
   "outputs": [],
   "source": []
  }
 ],
 "metadata": {
  "kernelspec": {
   "display_name": "Python 3",
   "language": "python",
   "name": "python3"
  },
  "language_info": {
   "codemirror_mode": {
    "name": "ipython",
    "version": 3
   },
   "file_extension": ".py",
   "mimetype": "text/x-python",
   "name": "python",
   "nbconvert_exporter": "python",
   "pygments_lexer": "ipython3",
   "version": "3.7.4"
  },
  "pycharm": {
   "stem_cell": {
    "cell_type": "raw",
    "source": [],
    "metadata": {
     "collapsed": false
    }
   }
  }
 },
 "nbformat": 4,
 "nbformat_minor": 4
}